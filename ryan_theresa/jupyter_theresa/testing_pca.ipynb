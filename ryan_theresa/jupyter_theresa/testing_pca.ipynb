{
 "cells": [
  {
   "cell_type": "markdown",
   "metadata": {},
   "source": [
    "# Finding eigenmaps with Different Methods"
   ]
  },
  {
   "cell_type": "markdown",
   "metadata": {},
   "source": [
    "## Import Needed Libraries"
   ]
  },
  {
   "cell_type": "code",
   "execution_count": 32,
   "metadata": {},
   "outputs": [],
   "source": [
    "import os\n",
    "import sys\n",
    "import mc3\n",
    "import pickle\n",
    "import starry\n",
    "import shutil\n",
    "import subprocess\n",
    "import progressbar\n",
    "import numpy as np\n",
    "import matplotlib.pyplot as plt\n",
    "import time\n",
    "import pandas as pd"
   ]
  },
  {
   "cell_type": "code",
   "execution_count": 33,
   "metadata": {},
   "outputs": [],
   "source": [
    "# Taurex imports\n",
    "import taurex\n",
    "from taurex import chemistry\n",
    "from taurex import planet\n",
    "from taurex import stellar\n",
    "from taurex import model\n",
    "from taurex import pressure\n",
    "from taurex import temperature\n",
    "from taurex import cache\n",
    "from taurex import contributions\n",
    "from taurex import optimizer\n",
    "# This import is explicit because it's not included in taurex.temperature. Bug?\n",
    "from taurex.data.profiles.temperature.temparray import TemperatureArray\n",
    "\n",
    "# Taurex is a bit...talkative\n",
    "import taurex.log\n",
    "taurex.log.disableLogging()\n",
    "\n"
   ]
  },
  {
   "cell_type": "code",
   "execution_count": 34,
   "metadata": {},
   "outputs": [],
   "source": [
    "# Directory structure\n",
    "__file__ = os.path.abspath('') # __file__ is not defined in jupyter\n",
    "\n",
    "maindir    = os.path.dirname(os.path.realpath(__file__))\n",
    "libdir     = os.path.join(maindir, 'lib2')\n",
    "moddir     = os.path.join(libdir,  'modules')\n",
    "ratedir    = os.path.join(moddir,  'rate')\n",
    "transitdir = os.path.join(moddir, 'transit')"
   ]
  },
  {
   "cell_type": "code",
   "execution_count": 35,
   "metadata": {},
   "outputs": [
    {
     "name": "stdout",
     "output_type": "stream",
     "text": [
      "['/Library/Frameworks/Python.framework/Versions/3.9/lib/python39.zip', '/Library/Frameworks/Python.framework/Versions/3.9/lib/python3.9', '/Library/Frameworks/Python.framework/Versions/3.9/lib/python3.9/lib-dynload', '', '/Users/a.j.devaux/Downloads/Research/stellar_null_space/ryan_theresa/jupyter_theresa/.venv/lib/python3.9/site-packages', '/Users/a.j.devaux/Downloads/Research/stellar_null_space/ryan_theresa/jupyter_theresa/.venv/lib/python3.9/site-packages/mc3/lib/', '/Users/a.j.devaux/Downloads/Research/stellar_null_space/ryan_theresa/jupyter_theresa/.venv/lib/python3.9/site-packages/mc3/lib', '/Users/a.j.devaux/Downloads/Research/stellar_null_space/ryan_theresa/lib2', '/Users/a.j.devaux/Downloads/Research/stellar_null_space/ryan_theresa/jupyter_theresa/lib2/modules/rate', '/Users/a.j.devaux/Downloads/Research/stellar_null_space/ryan_theresa/lib2']\n"
     ]
    }
   ],
   "source": [
    "# Lib imports\n",
    "sys.path.append(libdir)\n",
    "print(sys.path)\n",
    "from lib2 import constants\n",
    "from lib2 import cf\n",
    "from lib2 import atm\n",
    "from lib2 import my_pca as pca\n",
    "from lib2 import star_eigen as eigen\n",
    "from lib2 import model\n",
    "from lib2 import star_plots as plots\n",
    "from lib2 import mkcfg\n",
    "from lib2 import star_utils as utils\n",
    "from lib2 import constants   as c\n",
    "from lib2 import star_fitclass    as fc\n",
    "from lib2 import taurexclass as trc\n",
    "\n",
    "starry.config.quiet = True"
   ]
  },
  {
   "cell_type": "markdown",
   "metadata": {},
   "source": [
    "## Setting up PCA/Eigenmap in Notebook"
   ]
  },
  {
   "cell_type": "code",
   "execution_count": 36,
   "metadata": {},
   "outputs": [],
   "source": [
    "import numpy as np\n",
    "import sklearn\n",
    "import sklearn.decomposition\n",
    "\n",
    "def pca(arr, method='pca', ncomp=None):\n",
    "    \"\"\"\n",
    "    Runs principle component analysis on the input array.\n",
    "\n",
    "    Arguments\n",
    "    ---------\n",
    "    arr: 2D array\n",
    "        (m, n) array, where n is the size of the dataset (e.g., times\n",
    "        in an observation) and m is the number of vectors\n",
    "\n",
    "    Returns\n",
    "    -------\n",
    "    evalues: 1D array\n",
    "        array of eigenvalues of size n\n",
    "\n",
    "    evectors: 2D array\n",
    "        (m, m) array of sorted eigenvectors\n",
    "\n",
    "    proj: 2D array\n",
    "        (m, n) array of data projected in the new space\n",
    "\n",
    "    Notes\n",
    "    -----\n",
    "    See https://glowingpython.blogspot.com/2011/07/pca-and-image-compression-with-numpy.html\n",
    "    \"\"\"\n",
    "    nt = arr.shape[1]\n",
    "    print(\"We are using the right pca!\")\n",
    "    \n",
    "    if method == 'pca':\n",
    "        arr = arr.T\n",
    "        # Subtract the mean\n",
    "        m = (arr - np.mean(arr.T, axis=1)).T\n",
    "        #m = arr\n",
    "        # Compute eigenvalues\n",
    "        evalues, evectors = np.linalg.eig(np.cov(m))\n",
    "        # Sort descending\n",
    "        idx = np.argsort(evalues)[::-1]\n",
    "        evalues  = evalues[   idx]\n",
    "        evectors = evectors[:,idx]\n",
    "        # Calculate projection of the data in the new space\n",
    "        proj = np.dot(evectors.T, m)\n",
    "\n",
    "    elif method == 'tsvd':\n",
    "        tpca = sklearn.decomposition.TruncatedSVD(n_components=ncomp)\n",
    "        tpca.fit(arr.T)\n",
    "        evalues  = tpca.explained_variance_\n",
    "        evectors = tpca.components_\n",
    "        proj = np.zeros((ncomp, nt))\n",
    "        # print(evectors.shape)\n",
    "        # print(evectors[0].shape)\n",
    "        # print(arr.T.shape)\n",
    "        # test_1 = evectors[0] * arr.T\n",
    "        # print(test_1.shape)\n",
    "        # print(np.sum(test_1, axis=1).shape)\n",
    "\n",
    "        for i in range(ncomp):\n",
    "        # for i in range(0,2*ncomp,2):\n",
    "            proj[i] = np.sum(evectors[i] * arr.T, axis=1)\n",
    "\n",
    "        evectors = evectors.T\n",
    "            \n",
    "        \n",
    "    return evalues, evectors, proj\n"
   ]
  },
  {
   "cell_type": "code",
   "execution_count": 37,
   "metadata": {},
   "outputs": [],
   "source": [
    "import numpy as np\n",
    "import scipy.constants as sc\n",
    "\n",
    "def mkcurves(star, t, lmax, y00, ncurves=None, method='pca', negative = True, remove_y00 = True, all_curves = False):\n",
    "    \"\"\"\n",
    "    Generates light curves from a star+planet system at times t,\n",
    "    for positive and negative spherical harmonics with l up to lmax.\n",
    "\n",
    "    Arguments\n",
    "    ---------\n",
    "    system: object\n",
    "        A starry system object, initialized with a star and a planet\n",
    "\n",
    "    t: 1D array\n",
    "        Array of times at which to calculate eigencurves\n",
    "\n",
    "    lmax: integer\n",
    "        Maximum l to use in spherical harmonic maps\n",
    "\n",
    "    y00: 1D array\n",
    "        Light curve of a normalized, uniform map\n",
    "\n",
    "    Returns\n",
    "    -------\n",
    "    eigeny: 2D array\n",
    "        nharm x ny array of y coefficients for each harmonic. nharm is\n",
    "        the number of harmonics, including positive and negative versions\n",
    "        and excluding Y00. That is, 2 * ((lmax + 1)**2 - 1). ny is the\n",
    "        number of y coefficients to describe a harmonic with degree lmax.\n",
    "        That is, (lmax + 1)**2.\n",
    "\n",
    "    evalues: 1D array\n",
    "        nharm length array of eigenvalues\n",
    "\n",
    "    evectors: 2D array\n",
    "        nharm x nt array of normalized (unit) eigenvectors\n",
    "\n",
    "    proj: 2D array\n",
    "        nharm x nt array of the data projected in the new space (the PCA\n",
    "        \"eigencurves\"). The imaginary part is discarded, if nonzero.\n",
    "    \"\"\"    \n",
    "    # star   = system.bodies[0]\n",
    "    # planet = system.bodies[1]\n",
    "\n",
    "    nt = len(t)\n",
    "    print(\"We are using the right mkcurves!\")\n",
    "\n",
    "    thet = np.linspace(0, 360, nt)\n",
    "\n",
    "    if negative:\n",
    "    \n",
    "        # Create harmonic maps of the planet, excluding Y00\n",
    "        # (lmax**2 maps, plus a negative version for all but Y00)\n",
    "        nharm = ((lmax + 1)**2 - 1) *2 #trying to make it only 15 instead of 30\n",
    "        lcs = np.zeros((nharm, nt))\n",
    "        ind = 0\n",
    "        for i, l in enumerate(range(1, lmax + 1)):\n",
    "            for j, m in enumerate(range(-l, l + 1)):  \n",
    "                star.map[l, m] =  1.0 #update why?\n",
    "                lcs[ind] = star.map.flux(theta=thet).eval()\n",
    "        \n",
    "\n",
    "                star.map[l, m] = -1.0 #update why? is every second row negative version???\n",
    "                lcs[ind+1] = star.map.flux(theta=thet).eval()\n",
    "\n",
    "\n",
    "                star.map[l, m] = 0.0 #how the map started\n",
    "                ind += 2\n",
    "       \n",
    "\n",
    "        print(lcs.shape)\n",
    "    else:\n",
    "         # Create harmonic maps of the planet, excluding Y00\n",
    "        # (lmax**2 maps, plus a negative version for all but Y00)\n",
    "        nharm = ((lmax + 1)**2 - 1)  #trying to make it only 15 instead of 30\n",
    "        lcs = np.zeros((nharm, nt))\n",
    "        ind = 0\n",
    "        for i, l in enumerate(range(1, lmax + 1)):\n",
    "            for j, m in enumerate(range(-l, l + 1)):  \n",
    "                star.map[l, m] =  1.0 #update why?\n",
    "                lcs[ind] = star.map.flux(theta=thet).eval()\n",
    "\n",
    "\n",
    "                star.map[l, m] = 0.0 #how the map started\n",
    "                ind += 1\n",
    "       \n",
    "\n",
    "        print(lcs.shape)\n",
    "\n",
    "\n",
    "    if remove_y00:\n",
    "        # Subtact uniform map contribution (starry includes this in all\n",
    "        # light curves)\n",
    "        lcs -= y00 # will be zero for a star-only system\n",
    "\n",
    "    # np.savetxt(\"lcs_test.txt\", lcs, delimiter=\",\")\n",
    "    # return None #need to fix this\n",
    "            \n",
    "    # Run PCA to determine orthogonal light curves\n",
    "    if ncurves is None:\n",
    "        ncurves = nharm\n",
    "        \n",
    "    evalues, evectors, proj = pca(lcs, method=method, ncomp=ncurves)\n",
    "\n",
    "    print(evectors.shape)\n",
    "\n",
    "    # Discard imaginary part of eigencurves to appease numpy\n",
    "    proj = np.real(proj)\n",
    "\n",
    "\n",
    "    if negative:\n",
    "\n",
    "        if method == 'pca' and all_curves:\n",
    "            ncurves = ncurves * 2\n",
    "\n",
    "        # Convert orthogonal light curves into maps        \n",
    "        eigeny = np.zeros((ncurves, (lmax + 1)**2))\n",
    "        eigeny[:,0] = 1.0 # Y00 = 1 for all maps\n",
    "\n",
    "        for j in range(ncurves):\n",
    "            yi  = 1\n",
    "            shi = 0\n",
    "            for l in range(1, lmax + 1):\n",
    "                for m in range(-l, l + 1):\n",
    "                    # (ok because evectors has only been sorted along\n",
    "                    #  one dimension)\n",
    "                    eigeny[j,yi] = evectors.T[j,shi] - evectors.T[j,shi+1]\n",
    "                    yi  += 1\n",
    "                    shi += 2\n",
    "                    # shi+= 1\n",
    "\n",
    "    else:\n",
    "        # Convert orthogonal light curves into maps        \n",
    "        eigeny = np.zeros((ncurves, (lmax + 1)**2))\n",
    "        eigeny[:,0] = 1.0 # Y00 = 1 for all maps\n",
    "\n",
    "        for j in range(ncurves):\n",
    "            yi  = 1\n",
    "            shi = 0\n",
    "            for l in range(1, lmax + 1):\n",
    "                for m in range(-l, l + 1):\n",
    "                    # (ok because evectors has only been sorted along\n",
    "                    #  one dimension)\n",
    "                    eigeny[j,yi] = evectors.T[j,shi] #- evectors.T[j,shi+1]\n",
    "                    yi  += 1\n",
    "                    shi += 1\n",
    "\n",
    "    return eigeny, evalues, evectors, proj, lcs"
   ]
  },
  {
   "cell_type": "code",
   "execution_count": 38,
   "metadata": {},
   "outputs": [],
   "source": [
    "def emaps(star, eigeny, outdir, proj='ortho'):\n",
    "    ncurves, ny = eigeny.shape\n",
    "   \n",
    "    # thet = np.linspace(0, 360, ny)\n",
    "\n",
    "    if proj == 'ortho':\n",
    "        extent = (-90, 90, -90, 90)\n",
    "        fname = 'emaps-ecl.png'\n",
    "    elif proj == 'rect':\n",
    "        extent = (-180, 180, -90, 90)\n",
    "        fname = 'emaps-rect.png'\n",
    "    elif proj == 'moll':\n",
    "        extent = (-180, 180, -90, 90)\n",
    "        fname = 'emaps-moll.png'\n",
    "\n",
    "    lmax = int(ny**0.5 - 1)\n",
    "\n",
    "    ncols = int(np.sqrt(ncurves) // 1)\n",
    "    nrows = int(ncurves // ncols + (ncurves % ncols != 0))\n",
    "    npane = ncols * nrows\n",
    "\n",
    "    fig, axes = plt.subplots(nrows=nrows, ncols=ncols, squeeze=False,\n",
    "                             sharex=True, sharey=True)\n",
    "    \n",
    "    for j in range(ncurves):\n",
    "        star.map[1:,:] = 0\n",
    "\n",
    "        xloc = j %  ncols\n",
    "        yloc = j // ncols\n",
    "        ax = axes[yloc, xloc]\n",
    "        \n",
    "        yi = 1\n",
    "        for l in range(1, lmax + 1):\n",
    "            for m in range(-l, l + 1):\n",
    "                star.map[l, m] = eigeny[j, yi]\n",
    "                yi += 1\n",
    "\n",
    "        # print(f\"The {j} index eigen map's flux is {star.map.flux(theta=thet).eval()}\")\n",
    "        \n",
    "        ax.imshow(star.map.render(theta=0, projection=proj).eval(),\n",
    "                  origin=\"lower\",\n",
    "                  cmap=\"plasma\",\n",
    "                  extent=extent)\n",
    "        \n",
    "        # star.map.show(theta=np.linspace(0, 360, 50))\n",
    "    \n",
    "\n",
    "        # Axes are wrong for non-rectangular projections\n",
    "        if proj == 'ortho' or proj == 'moll':\n",
    "            ax.axis('off')\n",
    "\n",
    "    # Empty subplots\n",
    "    for j in range(ncurves, npane):\n",
    "        xloc = j %  ncols\n",
    "        yloc = j // ncols\n",
    "        ax = axes[yloc, xloc]\n",
    "\n",
    "        ax.axis('off')\n",
    "\n",
    "    fig.tight_layout()\n",
    "    plt.savefig(f\"plots/{outdir}\")\n",
    "    plt.close(fig)"
   ]
  },
  {
   "cell_type": "markdown",
   "metadata": {},
   "source": [
    "## Set-up"
   ]
  },
  {
   "cell_type": "code",
   "execution_count": 39,
   "metadata": {},
   "outputs": [
    {
     "name": "stdout",
     "output_type": "stream",
     "text": [
      "['/Users/a.j.devaux/Downloads/Research/stellar_null_space/ryan_theresa/jupyter_theresa/.venv/lib/python3.9/site-packages/ipykernel_launcher.py', '--f=/Users/a.j.devaux/Library/Jupyter/runtime/kernel-v36bb4512b08dc77f5b147222214acea8dde211bd3.json']\n",
      "Reading the configuration file.\n",
      "Reading the data.\n",
      "First star and planet objects.\n",
      "Finding Inclination of planet\n",
      "72.0\n",
      "Finding Rank of Design Matrix\n",
      "The design matrix is [3. 5. 5.] for lmax = 3\n",
      "The sflux is: [1.]\n",
      "The star map has flux [1. 1. 1. ... 1. 1. 1.]\n",
      "The time shape is (15937,)\n",
      "72.0\n"
     ]
    }
   ],
   "source": [
    "print(sys.argv)\n",
    "cfile = \"first_star.cfg\"\n",
    "dimen = \"2D\"\n",
    "\n",
    "fit = fc.Fit()\n",
    "print(\"Reading the configuration file.\")\n",
    "fit.read_config(cfile)\n",
    "cfg = fit.cfg\n",
    "\n",
    "print(\"Reading the data.\")\n",
    "fit.read_data()\n",
    "\n",
    "lmax = cfg.twod.lmax\n",
    "\n",
    "print(\"First star and planet objects.\")\n",
    "star = utils.initsystem(fit, lmax)\n",
    "\n",
    "print(\"Finding Inclination of planet\")\n",
    "print(cfg.star.inc)\n",
    "\n",
    "print(\"Finding Rank of Design Matrix\")\n",
    "A = star.map.design_matrix(theta=np.linspace(0,360,1000)) # how do I decide the angular phase???\n",
    "# print(A.eval())\n",
    "\n",
    "nsamples = cfg.twod.nsamples\n",
    "\n",
    "# print(nsamples, lmax)\n",
    "\n",
    "R = np.empty((nsamples, lmax))\n",
    "\n",
    "for k in range(nsamples):\n",
    "    \n",
    "    R[k] = [\n",
    "        np.linalg.matrix_rank(A.eval()[:, : (l + 1) ** 2]) for l in range(1, lmax + 1)\n",
    "    ]\n",
    "    # print(R[k])\n",
    "\n",
    "R = np.median(R, axis=0)   \n",
    "\n",
    "print(f\"The design matrix is {R} for lmax = {lmax}\")\n",
    "\n",
    "# Uniform star object\n",
    "star = utils.initsystem(fit, 1)\n",
    "\n",
    "fit.sflux = star.map.flux(theta=fit.t.shape).eval()\n",
    "\n",
    "print(f\"The sflux is: {fit.sflux}\")\n",
    "\n",
    "print(f\"The star map has flux {star.map.flux(theta=np.linspace(0,360,len(fit.t))).eval()}\")\n",
    "\n",
    "print(f\"The time shape is {fit.t.shape}\")\n",
    "\n",
    "print(star.map.inc.eval())\n",
    "\n",
    "fit.maps = []\n",
    "\n",
    "fit.maps.append(fc.Map())\n",
    "m = fit.maps[0]\n",
    "m.ncurves = cfg.twod.ncurves\n",
    "m.lmax    = cfg.twod.lmax\n",
    "# m.wlmid = fit.wlmid[i]\n",
    "\n",
    "if not os.path.isdir(cfg.outdir):\n",
    "    os.mkdir(cfg.outdir)\n",
    "\n",
    "m.subdir = 'filt{}'.format(1)\n",
    "outdir = os.path.join(cfg.outdir, m.subdir)\n",
    "\n",
    "if not os.path.isdir(os.path.join(cfg.outdir, m.subdir)):\n",
    "    os.mkdir(os.path.join(cfg.outdir, m.subdir))\n",
    "\n",
    "# New planet object with updated lmax\n",
    "star = utils.initsystem(fit, m.lmax)"
   ]
  },
  {
   "cell_type": "markdown",
   "metadata": {},
   "source": [
    "## Running PCA's"
   ]
  },
  {
   "cell_type": "code",
   "execution_count": 78,
   "metadata": {},
   "outputs": [],
   "source": [
    "def create_pcas():\n",
    "    user_input = input(\"Do you want to create the PCAs or read from a file? (y/n)\")\n",
    "\n",
    "    return user_input.strip().lower() == \"y\"\n",
    "\n",
    "\n",
    "dont_read_file = create_pcas()\n",
    "    "
   ]
  },
  {
   "cell_type": "code",
   "execution_count": 75,
   "metadata": {},
   "outputs": [
    {
     "name": "stdout",
     "output_type": "stream",
     "text": [
      "Making eigen values with tsvd and removing y00\n",
      "We are using the right mkcurves!\n",
      "(30, 15937)\n",
      "We are using the right pca!\n",
      "(30, 15)\n"
     ]
    }
   ],
   "source": [
    "# mkcurves(star, t, lmax, y00, ncurves=None, method='pca', negative = True, remove_y00 = True):\n",
    "if dont_read_file:\n",
    "    print(\"Making eigen values with tsvd and removing y00\")\n",
    "    tsvd_norm_eigeny, tsvd_norm_evalues, tsvd_norm_evectors, tsvd_norm_ecurves, tsvd_norm_lcs = \\\n",
    "    mkcurves(star, fit.t, m.lmax, fit.sflux,\n",
    "                    ncurves=m.ncurves, method=\"tsvd\", negative=True, remove_y00=True)\n",
    "    \n",
    "    np.savetxt(\"stored_pcas/tsvd_norm_eigeny.txt\", tsvd_norm_eigeny)\n",
    "\n",
    "else:\n",
    "    try:\n",
    "        tsvd_norm_eigeny = np.loadtxt(\"stored_pcas/tsvd_norm_eigeny.txt\")\n",
    "    except:\n",
    "        print(\"PCA file not found, change read_file to True.\")\n",
    "\n"
   ]
  },
  {
   "cell_type": "code",
   "execution_count": 76,
   "metadata": {},
   "outputs": [
    {
     "name": "stdout",
     "output_type": "stream",
     "text": [
      "Making eigen values with tsvd and removing y00 again\n",
      "We are using the right mkcurves!\n",
      "(30, 15937)\n",
      "We are using the right pca!\n",
      "(30, 15)\n"
     ]
    }
   ],
   "source": [
    "if dont_read_file:\n",
    "    print(\"Making eigen values with tsvd and removing y00 again\")\n",
    "    tsvd_norm_eigeny2, tsvd_norm_evalues2, tsvd_norm_evectors2, tsvd_norm_ecurves2, tsvd_norm_lcs2 = \\\n",
    "    mkcurves(star, fit.t, m.lmax, fit.sflux,\n",
    "                    ncurves=m.ncurves, method=\"tsvd\", negative=True, remove_y00=True)\n",
    "    \n",
    "    np.savetxt(\"stored_pcas/tsvd_norm_eigeny2.txt\", tsvd_norm_eigeny2)\n",
    "\n",
    "else:\n",
    "    try:\n",
    "        tsvd_norm_eigeny2 = np.loadtxt(\"stored_pcas/tsvd_norm_eigeny2.txt\")\n",
    "    except:\n",
    "        print(\"PCA file not found, change read_file to True.\")\n",
    "    "
   ]
  },
  {
   "cell_type": "code",
   "execution_count": 77,
   "metadata": {},
   "outputs": [
    {
     "name": "stdout",
     "output_type": "stream",
     "text": [
      "Making eigen values with tsvd and removing y00 again\n",
      "We are using the right mkcurves!\n",
      "(30, 15937)\n",
      "We are using the right pca!\n",
      "(30, 15)\n"
     ]
    }
   ],
   "source": [
    "if dont_read_file:\n",
    "    print(\"Making eigen values with tsvd and removing y00 again\")\n",
    "    tsvd_norm_eigeny3, tsvd_norm_evalues3, tsvd_norm_evectors3, tsvd_norm_ecurves3, tsvd_norm_lcs3 = \\\n",
    "    mkcurves(star, fit.t, m.lmax, fit.sflux,\n",
    "                    ncurves=m.ncurves, method=\"tsvd\", negative=True, remove_y00=True)\n",
    "    \n",
    "    np.savetxt(\"stored_pcas/tsvd_norm_eigeny3.txt\", tsvd_norm_eigeny3)\n",
    "\n",
    "else:\n",
    "    try:\n",
    "        tsvd_norm_eigeny3 = np.loadtxt(\"stored_pcas/tsvd_norm_eigeny3.txt\")\n",
    "    except:\n",
    "        print(\"PCA file not found, change read_file to True.\")"
   ]
  },
  {
   "cell_type": "code",
   "execution_count": 57,
   "metadata": {},
   "outputs": [],
   "source": [
    "if dont_read_file:\n",
    "    print(\"Making eigen values with tsvd and keeping y00\")\n",
    "    tsvd_y00_eigeny, tsvd_y00_evalues, tsvd_y00_evectors, tsvd_y00_ecurves, tsvd_y00_lcs = \\\n",
    "    mkcurves(star, fit.t, m.lmax, fit.sflux,\n",
    "                    ncurves=m.ncurves, method=\"tsvd\", negative=True, remove_y00=False)\n",
    "    \n",
    "    np.savetxt(\"stored_pcas/tsvd_y00_eigeny.txt\", tsvd_y00_eigeny)\n",
    "\n",
    "else:\n",
    "    try:\n",
    "        tsvd_y00_eigeny = np.loadtxt(\"stored_pcas/tsvd_y00_eigeny.txt\")\n",
    "    except:\n",
    "        print(\"PCA file not found, change read_file to True.\")\n"
   ]
  },
  {
   "cell_type": "code",
   "execution_count": 58,
   "metadata": {},
   "outputs": [],
   "source": [
    "if dont_read_file:\n",
    "    print(\"Making eigen values with tsvd and keeping y00 again\")\n",
    "    tsvd_y00_eigeny2, tsvd_y00_evalues2, tsvd_y00_evectors2, tsvd_y00_ecurves2, tsvd_y00_lcs2 = \\\n",
    "    mkcurves(star, fit.t, m.lmax, fit.sflux,\n",
    "                    ncurves=m.ncurves, method=\"tsvd\", negative=True, remove_y00=False)\n",
    "    \n",
    "    np.savetxt(\"stored_pcas/tsvd_y00_eigeny2.txt\", tsvd_y00_eigeny2)\n",
    "\n",
    "else:\n",
    "    try:\n",
    "        tsvd_y00_eigeny2 = np.loadtxt(\"stored_pcas/tsvd_y00_eigeny2.txt\")\n",
    "    except:\n",
    "        print(\"PCA file not found, change read_file to True.\")"
   ]
  },
  {
   "cell_type": "code",
   "execution_count": 59,
   "metadata": {},
   "outputs": [],
   "source": [
    "if dont_read_file:\n",
    "    print(\"Making eigen values with pca and removing y00\")\n",
    "    pca_norm_eigeny, pca_norm_evalues, pca_norm_evectors, pca_norm_ecurves, pca_norm_lcs = \\\n",
    "    mkcurves(star, fit.t, m.lmax, fit.sflux,\n",
    "                    ncurves=m.ncurves, method=\"pca\", negative=True, remove_y00=True)\n",
    "    \n",
    "    np.savetxt(\"stored_pcas/pca_norm_eigeny.txt\", pca_norm_eigeny)\n",
    "\n",
    "else:\n",
    "    try:\n",
    "        pca_norm_eigeny = np.loadtxt(\"stored_pcas/pca_norm_eigeny.txt\")\n",
    "    except:\n",
    "        print(\"PCA file not found, change read_file to True.\")   "
   ]
  },
  {
   "cell_type": "code",
   "execution_count": 60,
   "metadata": {},
   "outputs": [],
   "source": [
    "if dont_read_file:\n",
    "    print(\"Making eigen values with pca and removing y00 again\")\n",
    "    pca_norm_eigeny2, pca_norm_evalues2, pca_norm_evectors2, pca_norm_ecurves2, pca_norm_lcs2 = \\\n",
    "    mkcurves(star, fit.t, m.lmax, fit.sflux,\n",
    "                    ncurves=m.ncurves, method=\"pca\", negative=True, remove_y00=True)\n",
    "    \n",
    "    np.savetxt(\"stored_pcas/pca_norm_eigeny2.txt\", pca_norm_eigeny2)\n",
    "\n",
    "else:\n",
    "    try:\n",
    "        pca_norm_eigeny2 = np.loadtxt(\"stored_pcas/pca_norm_eigeny2.txt\")\n",
    "    except:\n",
    "        print(\"PCA file not found, change read_file to True.\")   "
   ]
  },
  {
   "cell_type": "code",
   "execution_count": 61,
   "metadata": {},
   "outputs": [],
   "source": [
    "if dont_read_file:\n",
    "    print(\"Making eigen values with pca and keeping y00\")\n",
    "    pca_y00_eigeny, pca_y00_evalues, pca_y00_evectors, pca_y00_ecurves, pca_y00_neg_lcs = \\\n",
    "    mkcurves(star, fit.t, m.lmax, fit.sflux,\n",
    "                    ncurves=m.ncurves, method=\"pca\", negative=True, remove_y00=False)\n",
    "    \n",
    "    np.savetxt(\"stored_pcas/pca_y00_eigeny.txt\", pca_y00_eigeny)\n",
    "\n",
    "else:\n",
    "    try:\n",
    "        pca_y00_eigeny = np.loadtxt(\"stored_pcas/pca_y00_eigeny.txt\")\n",
    "    except:\n",
    "        print(\"PCA file not found, change read_file to True.\")   "
   ]
  },
  {
   "cell_type": "code",
   "execution_count": 62,
   "metadata": {},
   "outputs": [],
   "source": [
    "if dont_read_file:\n",
    "    print(\"Making eigen values with pca and keeping y00 again\")\n",
    "    pca_y00_eigeny2, pca_y00_evalues2, pca_y00_evectors2, pca_y00_ecurves2, pca_y00_neg_lcs2 = \\\n",
    "    mkcurves(star, fit.t, m.lmax, fit.sflux,\n",
    "                    ncurves=m.ncurves, method=\"pca\", negative=True, remove_y00=False)\n",
    "\n",
    "    np.savetxt(\"stored_pcas/pca_y00_eigeny2.txt\", pca_y00_eigeny2)\n",
    "\n",
    "else:\n",
    "    try:\n",
    "        pca_y00_eigeny2 = np.loadtxt(\"stored_pcas/pca_y00_eigeny2.txt\")\n",
    "    except:\n",
    "        print(\"PCA file not found, change read_file to True.\") "
   ]
  },
  {
   "cell_type": "code",
   "execution_count": 63,
   "metadata": {},
   "outputs": [],
   "source": [
    "if dont_read_file:\n",
    "    print(\"Making eigen values with pca, removing y00, and no negative maps\")\n",
    "    pca_norm_pos_eigeny, pca_norm_pos_evalues, pca_norm_pos_evectors, pca_norm_pos_ecurves, pca_norm_pos_lcs = \\\n",
    "    mkcurves(star, fit.t, m.lmax, fit.sflux,\n",
    "                    ncurves=m.ncurves, method=\"pca\", negative=False, remove_y00=True)\n",
    "\n",
    "    np.savetxt(\"stored_pcas/pca_norm_pos_eigeny.txt\", pca_norm_pos_eigeny)\n",
    "\n",
    "else:\n",
    "    try:\n",
    "        pca_norm_pos_eigeny = np.loadtxt(\"stored_pcas/pca_norm_pos_eigeny.txt\")\n",
    "    except:\n",
    "        print(\"PCA file not found, change read_file to True.\") "
   ]
  },
  {
   "cell_type": "code",
   "execution_count": 64,
   "metadata": {},
   "outputs": [],
   "source": [
    "if dont_read_file:\n",
    "    print(\"Making eigen values with pca, keeping y00, and no negative maps\")\n",
    "    pca_y00_pos_eigeny, pca_y00_pos_evalues, pca_y00_pos_evectors, pca_y00_pos_ecurves, pca_y00_pos_lcs = \\\n",
    "    mkcurves(star, fit.t, m.lmax, fit.sflux,\n",
    "                    ncurves=m.ncurves, method=\"pca\", negative=False, remove_y00=False)\n",
    "    \n",
    "    np.savetxt(\"stored_pcas/pca_y00_pos_eigeny.txt\", pca_y00_pos_eigeny)\n",
    "\n",
    "else:\n",
    "    try:\n",
    "        pca_y00_pos_eigeny = np.loadtxt(\"stored_pcas/pca_y00_pos_eigeny.txt\")\n",
    "    except:\n",
    "        print(\"PCA file not found, change read_file to True.\") "
   ]
  },
  {
   "cell_type": "code",
   "execution_count": 65,
   "metadata": {},
   "outputs": [],
   "source": [
    "if dont_read_file:\n",
    "    print(\"Making eigen values with pca, all 30 curves, and removing y00\")\n",
    "    pca30_norm_eigeny, pca30_norm_evalues, pca30_norm_evectors, pca30_norm_ecurves, pca30_norm_lcs = \\\n",
    "    mkcurves(star, fit.t, m.lmax, fit.sflux,\n",
    "                    ncurves=m.ncurves, method=\"pca\", negative=True, remove_y00=True, all_curves=True)\n",
    "    \n",
    "    np.savetxt(\"stored_pcas/pca30_norm_eigeny.txt\", pca30_norm_eigeny)\n",
    "\n",
    "else:\n",
    "    try:\n",
    "        pca30_norm_eigeny = np.loadtxt(\"stored_pcas/pca30_norm_eigeny.txt\")\n",
    "    except:\n",
    "        print(\"PCA file not found, change read_file to True.\") "
   ]
  },
  {
   "cell_type": "code",
   "execution_count": 66,
   "metadata": {},
   "outputs": [],
   "source": [
    "if dont_read_file:\n",
    "    print(\"Making eigen values with pca, all 30 curves, and keeping y00\")\n",
    "    pca30_y00_eigeny, pca30_y00_evalues, pca30_y00_evectors, pca30_y00_ecurves, pca30_y00_neg_lcs = \\\n",
    "    mkcurves(star, fit.t, m.lmax, fit.sflux,\n",
    "                    ncurves=m.ncurves, method=\"pca\", negative=True, remove_y00=False, all_curves=True)\n",
    "    \n",
    "    np.savetxt(\"stored_pcas/pca30_y00_eigeny.txt\", pca30_y00_eigeny)\n",
    "\n",
    "else:\n",
    "    try:\n",
    "        pca30_y00_eigeny = np.loadtxt(\"stored_pcas/pca30_y00_eigeny.txt\")\n",
    "    except:\n",
    "        print(\"PCA file not found, change read_file to True.\")    "
   ]
  },
  {
   "cell_type": "code",
   "execution_count": 53,
   "metadata": {},
   "outputs": [
    {
     "data": {
      "text/plain": [
       "'WILL NOT WORK!'"
      ]
     },
     "execution_count": 53,
     "metadata": {},
     "output_type": "execute_result"
    }
   ],
   "source": [
    "\"\"\"WILL NOT WORK!\"\"\"\n",
    "\n",
    "# print(\"Making eigen values with tsvd, removing y00, and no negative maps\")\n",
    "# tsvd_norm_pos_eigeny, tsvd_norm_pos_evalues, tsvd_norm_pos_evectors, tsvd_norm_pos_ecurves, tsvd_norm_pos_lcs = \\\n",
    "# mkcurves(star, fit.t, m.lmax, fit.sflux,\n",
    "#                 ncurves=m.ncurves, method=\"tsvd\", negative=False, remove_y00=True)"
   ]
  },
  {
   "cell_type": "code",
   "execution_count": 23,
   "metadata": {},
   "outputs": [],
   "source": [
    "##OLD?"
   ]
  },
  {
   "cell_type": "markdown",
   "metadata": {},
   "source": [
    "## Plotting Results"
   ]
  },
  {
   "cell_type": "code",
   "execution_count": 24,
   "metadata": {},
   "outputs": [
    {
     "name": "stdout",
     "output_type": "stream",
     "text": [
      "eigeny\n",
      "(15, 16)\n",
      "(15, 16)\n",
      "(30, 16)\n"
     ]
    }
   ],
   "source": [
    "print(\"eigeny\")\n",
    "print(pca_norm_eigeny.shape)\n",
    "print(tsvd_norm_eigeny.shape)\n",
    "print(pca30_norm_eigeny.shape)\n",
    "# print(\"ecurves\")\n",
    "# print(pca_norm_ecurves.shape)\n",
    "# print(tsvd_norm_ecurves.shape)\n",
    "# print(\"lcs\")\n",
    "# print(pca_norm_lcs.shape)\n",
    "# print(tsvd_norm_lcs.shape)\n",
    "# print(\"evectors\")\n",
    "# print(pca_norm_evectors.shape)\n",
    "# print(tsvd_norm_evectors.shape)\n",
    "# print(\"evalues\")\n",
    "# print(pca_norm_evalues.shape)\n",
    "# print(tsvd_norm_evalues.shape)"
   ]
  },
  {
   "cell_type": "code",
   "execution_count": 25,
   "metadata": {},
   "outputs": [],
   "source": [
    "# plt.plot(tsvd_norm_eigeny)\n",
    "# plt.plot(tsvd_y00_eigeny)\n",
    "# plt.plot(pca_norm_eigeny)\n",
    "# plt.plot(pca_y00_eigeny)\n",
    "# plt.plot(pca30_norm_eigeny)"
   ]
  },
  {
   "cell_type": "code",
   "execution_count": null,
   "metadata": {},
   "outputs": [],
   "source": [
    "emaps(star, tsvd_norm_eigeny, \"tsvd_norm_eigeny.png\", proj=\"rect\")"
   ]
  },
  {
   "cell_type": "code",
   "execution_count": null,
   "metadata": {},
   "outputs": [],
   "source": [
    "emaps(star, tsvd_norm_eigeny2, \"tsvd_norm_eigeny2.png\", proj=\"rect\")"
   ]
  },
  {
   "cell_type": "code",
   "execution_count": null,
   "metadata": {},
   "outputs": [],
   "source": [
    "emaps(star, tsvd_y00_eigeny, \"tsvd_y00_eigeny.png\", proj=\"rect\")"
   ]
  },
  {
   "cell_type": "code",
   "execution_count": null,
   "metadata": {},
   "outputs": [],
   "source": [
    "emaps(star, tsvd_y00_eigeny2, \"tsvd_y00_eigeny2.png\", proj=\"rect\")"
   ]
  },
  {
   "cell_type": "code",
   "execution_count": null,
   "metadata": {},
   "outputs": [],
   "source": [
    "emaps(star, pca_norm_eigeny, \"pca_norm_eigeny.png\", proj=\"rect\")"
   ]
  },
  {
   "cell_type": "code",
   "execution_count": null,
   "metadata": {},
   "outputs": [],
   "source": [
    "emaps(star, pca_norm_eigeny2, \"pca_norm_eigeny2.png\", proj=\"rect\")"
   ]
  },
  {
   "cell_type": "code",
   "execution_count": null,
   "metadata": {},
   "outputs": [],
   "source": [
    "emaps(star, pca_y00_eigeny, \"pca_y00_eigeny.png\", proj=\"rect\")"
   ]
  },
  {
   "cell_type": "code",
   "execution_count": null,
   "metadata": {},
   "outputs": [],
   "source": [
    "emaps(star, pca_y00_eigeny2, \"pca_y00_eigeny2.png\", proj=\"rect\")"
   ]
  },
  {
   "cell_type": "code",
   "execution_count": null,
   "metadata": {},
   "outputs": [],
   "source": [
    "emaps(star, pca_norm_pos_eigeny, \"pca_norm_pos_eigeny.png\", proj=\"rect\")"
   ]
  },
  {
   "cell_type": "code",
   "execution_count": null,
   "metadata": {},
   "outputs": [],
   "source": [
    "emaps(star, pca_y00_pos_eigeny, \"pca_y00_pos_eigeny.png\", proj=\"rect\")"
   ]
  },
  {
   "cell_type": "code",
   "execution_count": null,
   "metadata": {},
   "outputs": [],
   "source": [
    "emaps(star, pca30_norm_eigeny, \"pca30_norm_eigeny.png\", proj='rect')"
   ]
  },
  {
   "cell_type": "code",
   "execution_count": null,
   "metadata": {},
   "outputs": [],
   "source": [
    "emaps(star, pca30_y00_eigeny, \"pca30_y00_eigeny.png\",proj='rect')"
   ]
  },
  {
   "cell_type": "code",
   "execution_count": 23,
   "metadata": {},
   "outputs": [],
   "source": [
    "def plot_eigen_flux(star, eigeny, outdir):\n",
    "\n",
    "    ncurves, ny = eigeny.shape\n",
    "\n",
    "    lmax = int(ny**0.5 - 1)\n",
    "    thet = np.linspace(0, 360, ny)\n",
    "\n",
    "    # ncols = np.int(np.sqrt(ncurves) // 1)\n",
    "    # nrows = np.int(ncurves // ncols + (ncurves % ncols != 0))\n",
    "    # npane = ncols * nrows\n",
    "\n",
    "    fig, ax = plt.subplots(nrows=ncurves, ncols=1, figsize=(10, ncurves))\n",
    "\n",
    "    for j in range(ncurves):\n",
    "        star.map[1:,:] = 0\n",
    "\n",
    "        yi = 1\n",
    "        for l in range(1, lmax + 1):\n",
    "            for mn in range(-l, l + 1):\n",
    "                star.map[l, mn] = eigeny[j, yi]\n",
    "                yi += 1\n",
    "        \n",
    "        ax[j].plot(star.map.flux(theta=thet).eval())\n",
    "    \n",
    "    fig.tight_layout()\n",
    "    plt.savefig(f\"plots/{outdir}\")\n",
    "    plt.close(fig)\n",
    "\n",
    "\n"
   ]
  },
  {
   "cell_type": "code",
   "execution_count": 24,
   "metadata": {},
   "outputs": [],
   "source": [
    "plot_eigen_flux(star, tsvd_norm_eigeny, \"tsvd_norm_eigeny_flux.png\")"
   ]
  },
  {
   "cell_type": "code",
   "execution_count": 80,
   "metadata": {},
   "outputs": [],
   "source": [
    "plot_eigen_flux(star, tsvd_norm_eigeny2, \"tsvd_norm_eigeny_flux2.png\")"
   ]
  },
  {
   "cell_type": "code",
   "execution_count": 79,
   "metadata": {},
   "outputs": [],
   "source": [
    "plot_eigen_flux(star, tsvd_norm_eigeny3, \"tsvd_norm_eigeny_flux3.png\")"
   ]
  },
  {
   "cell_type": "code",
   "execution_count": 25,
   "metadata": {},
   "outputs": [],
   "source": [
    "plot_eigen_flux(star, tsvd_y00_eigeny, \"tsvd_y00_eigeny_flux.png\")"
   ]
  },
  {
   "cell_type": "code",
   "execution_count": 26,
   "metadata": {},
   "outputs": [],
   "source": [
    "plot_eigen_flux(star, pca_norm_eigeny, \"pca_norm_eigeny_flux.png\")"
   ]
  },
  {
   "cell_type": "code",
   "execution_count": 27,
   "metadata": {},
   "outputs": [],
   "source": [
    "plot_eigen_flux(star, pca_y00_eigeny, \"pca_y00_eigeny_flux.png\")"
   ]
  },
  {
   "cell_type": "code",
   "execution_count": 28,
   "metadata": {},
   "outputs": [],
   "source": [
    "plot_eigen_flux(star, pca_norm_pos_eigeny, \"pca_norm_pos_eigeny_flux.png\")"
   ]
  },
  {
   "cell_type": "code",
   "execution_count": 29,
   "metadata": {},
   "outputs": [],
   "source": [
    "plot_eigen_flux(star, pca_y00_pos_eigeny, \"pca_y00_pos_eigeny_flux.png\")"
   ]
  },
  {
   "cell_type": "code",
   "execution_count": 30,
   "metadata": {},
   "outputs": [],
   "source": [
    "plot_eigen_flux(star, pca30_norm_eigeny, \"pca30_norm_eigeny_flux.png\")"
   ]
  },
  {
   "cell_type": "code",
   "execution_count": 31,
   "metadata": {},
   "outputs": [],
   "source": [
    "plot_eigen_flux(star, pca30_y00_eigeny, \"pca30_y00_eigeny_flux.png\")"
   ]
  },
  {
   "cell_type": "code",
   "execution_count": null,
   "metadata": {},
   "outputs": [],
   "source": []
  },
  {
   "cell_type": "markdown",
   "metadata": {},
   "source": [
    "## OLD?"
   ]
  },
  {
   "cell_type": "code",
   "execution_count": null,
   "metadata": {},
   "outputs": [
    {
     "name": "stdout",
     "output_type": "stream",
     "text": [
      "Running PCA to determine eigencurves.\n",
      "We are using the right mkcurves!\n",
      "(30, 15937)\n",
      "We are using the right pca!\n",
      "(30, 15)\n"
     ]
    }
   ],
   "source": [
    "print(\"Running PCA to determine eigencurves.\")\n",
    "m.eigeny_i, m.evalues_i, m.evectors_i, m.ecurves_i, m.lcs_i = \\\n",
    "mkcurves(star, fit.t, m.lmax, fit.sflux,\n",
    "                ncurves=m.ncurves, method=cfg.twod.pca)"
   ]
  },
  {
   "cell_type": "code",
   "execution_count": null,
   "metadata": {},
   "outputs": [],
   "source": [
    "print(\"Running PCA to determine eigencurves.\")\n",
    "m.eigeny_j, m.evalues_j, m.evectors_j, m.ecurves_j, m.lcs_j = \\\n",
    "mkcurves(star, fit.t, m.lmax, fit.sflux,\n",
    "                ncurves=m.ncurves, method=cfg.twod.pca)"
   ]
  },
  {
   "cell_type": "code",
   "execution_count": null,
   "metadata": {},
   "outputs": [],
   "source": [
    "#The lcs are the same!\n",
    "print((m.lcs_i == m.lcs_j).all())\n",
    "\n",
    "#The eigen maps are not!\n",
    "print((m.eigeny_i == m.eigeny_j).all())\n",
    "\n",
    "#The eigen maps are not!\n",
    "print((m.ecurves_i == m.ecurves_j).all())\n",
    "\n",
    "#The eigen maps are not!\n",
    "print((m.evectors_i == m.evectors_j).all())\n",
    "\n",
    "#The eigen maps are not!\n",
    "print((m.evalues_i == m.evalues_j).all())"
   ]
  },
  {
   "cell_type": "code",
   "execution_count": null,
   "metadata": {},
   "outputs": [
    {
     "name": "stdout",
     "output_type": "stream",
     "text": [
      "Running PCA to determine eigencurves.\n",
      "We are using the right mkcurves!\n",
      "(30, 15937)\n",
      "We are using the right pca!\n",
      "(30, 30)\n"
     ]
    }
   ],
   "source": [
    "#NEED TO CHANGE TO PCA IN CFG FILE\n",
    "\n",
    "print(\"Running PCA to determine eigencurves.\")\n",
    "m.eigeny, m.evalues, m.evectors, m.ecurves, m.lcs = \\\n",
    "mkcurves(star, fit.t, m.lmax, fit.sflux,\n",
    "                ncurves=m.ncurves, method=\"pca\")\n",
    "\n",
    "# m.eigeny2, m.evalues2, m.evectors2, m.ecurves2, m.lcs2 = \\\n",
    "# mkcurves(star, fit.t, m.lmax, fit.sflux,\n",
    "#                 ncurves=m.ncurves, method=\"pca\")"
   ]
  },
  {
   "cell_type": "code",
   "execution_count": null,
   "metadata": {},
   "outputs": [
    {
     "name": "stdout",
     "output_type": "stream",
     "text": [
      "True\n",
      "True\n",
      "True\n",
      "True\n",
      "True\n"
     ]
    }
   ],
   "source": [
    "#The lcs are the same!\n",
    "print((m.lcs == m.lcs2).all())\n",
    "\n",
    "#The eigen maps are not!\n",
    "print((m.eigeny == m.eigeny2).all())\n",
    "\n",
    "#The eigen maps are not!\n",
    "print((m.ecurves == m.ecurves2).all())\n",
    "\n",
    "#The eigen maps are not!\n",
    "print((m.evectors == m.evectors2).all())\n",
    "\n",
    "#The eigen maps are not!\n",
    "print((m.evalues == m.evalues2).all())"
   ]
  },
  {
   "cell_type": "code",
   "execution_count": null,
   "metadata": {},
   "outputs": [
    {
     "name": "stdout",
     "output_type": "stream",
     "text": [
      "The shape of lcs is (30, 15937)\n",
      "\n",
      "The shape of ecurves (proj) is (30, 15937)\n",
      "\n"
     ]
    }
   ],
   "source": [
    "print(f\"The shape of lcs is {m.lcs.shape}\\n\")\n",
    "\n",
    "print(f\"The shape of ecurves (proj) is {m.ecurves.shape}\\n\")\n",
    "\n",
    "# print(f\"The shape of lcs with tsvd is {m.lcs_i.shape}\\n\")\n",
    "\n",
    "# print(f\"The shape of ecurves (proj) with tsvd is {m.ecurves_i.shape}\\n\")"
   ]
  },
  {
   "cell_type": "code",
   "execution_count": null,
   "metadata": {},
   "outputs": [
    {
     "name": "stdout",
     "output_type": "stream",
     "text": [
      "(30, 30)\n"
     ]
    }
   ],
   "source": [
    "print(m.evectors.shape)"
   ]
  },
  {
   "cell_type": "code",
   "execution_count": null,
   "metadata": {},
   "outputs": [
    {
     "name": "stdout",
     "output_type": "stream",
     "text": [
      "Finding design matrix & rank of lcs\n",
      "The new rank with lcs.T is [2. 3. 5. 5. 5. 5.]\n"
     ]
    }
   ],
   "source": [
    "print(\"Finding design matrix & rank of lcs\")\n",
    "lcs_A_T = m.lcs.T\n",
    "\n",
    "lcs_R_T = np.empty((nsamples, lmax*2))\n",
    "\n",
    "for k in range(nsamples):\n",
    "    \n",
    "    lcs_R_T[k] = [\n",
    "        np.linalg.matrix_rank(lcs_A_T[:, : (l + 1) ** 2]) for l in range(1, lmax*2 + 1)\n",
    "    ]\n",
    "    # print(R[k])\n",
    "\n",
    "lcs_R_T = np.median(lcs_R_T, axis=0)   \n",
    "\n",
    "print(f\"The new rank with lcs.T is {lcs_R_T}\")\n",
    "\n",
    "# lcs_A_T_i = m.lcs_i.T\n",
    "\n",
    "# lcs_R_T_i = np.empty((nsamples, lmax*2))\n",
    "\n",
    "# for k in range(nsamples):\n",
    "    \n",
    "#     lcs_R_T_i[k] = [\n",
    "#         np.linalg.matrix_rank(lcs_A_T_i[:, : (l + 1) ** 2]) for l in range(1, lmax*2 + 1)\n",
    "#     ]\n",
    "#     # print(R[k])\n",
    "\n",
    "# lcs_R_T_i = np.median(lcs_R_T_i, axis=0)   \n",
    "\n",
    "# print(f\"The new rank with lcs.T with tsvd is {lcs_R_T_i}\")"
   ]
  },
  {
   "cell_type": "code",
   "execution_count": null,
   "metadata": {},
   "outputs": [
    {
     "name": "stdout",
     "output_type": "stream",
     "text": [
      "Finding design matrix & rank of ecurves\n",
      "(100, 3)\n",
      "The new rank with ecurves.T is [4. 4. 4.]\n"
     ]
    }
   ],
   "source": [
    "print(\"Finding design matrix & rank of ecurves\")\n",
    "\n",
    "evect_A_T = m.ecurves.T\n",
    "\n",
    "evect_R_T = np.empty((nsamples, lmax))\n",
    "\n",
    "for k in range(nsamples):\n",
    "    \n",
    "    evect_R_T[k] = [\n",
    "        np.linalg.matrix_rank(evect_A_T[:, : (l + 1) ** 2]) for l in range(1, lmax + 1)\n",
    "    ]\n",
    "    # print(R[k])\n",
    "\n",
    "print(evect_R_T.shape)\n",
    "\n",
    "evect_R_T = np.median(evect_R_T, axis=0)   \n",
    "\n",
    "print(f\"The new rank with ecurves.T is {evect_R_T}\")\n",
    "\n",
    "# evect_A_T_i = m.ecurves_i.T\n",
    "\n",
    "# evect_R_T_i = np.empty((nsamples, lmax))\n",
    "\n",
    "# for k in range(nsamples):\n",
    "    \n",
    "#     evect_R_T_i[k] = [\n",
    "#         np.linalg.matrix_rank(evect_A_T_i[:, : (l + 1) ** 2]) for l in range(1, lmax + 1)\n",
    "#     ]\n",
    "#     # print(R[k])\n",
    "\n",
    "# evect_R_T_i = np.median(evect_R_T_i, axis=0)   \n",
    "\n",
    "# print(f\"The new rank with ecurves.T with tsvd is {evect_R_T_i}\")"
   ]
  },
  {
   "cell_type": "code",
   "execution_count": null,
   "metadata": {},
   "outputs": [
    {
     "name": "stdout",
     "output_type": "stream",
     "text": [
      "Finding design matrix & rank of eigeny\n",
      "It has shape (15, 16)\n",
      "The new rank with eigeny is [ 4.  9. 11.]\n",
      "The new rank with eigeny.T is [ 4.  8. 11.]\n"
     ]
    }
   ],
   "source": [
    "print(\"Finding design matrix & rank of eigeny\")\n",
    "print(f\"It has shape {m.eigeny.shape}\")\n",
    "\n",
    "eigeny_A = m.eigeny #m.eigeny.design_matrix()\n",
    "\n",
    "eig_R = np.empty((nsamples, lmax))\n",
    "\n",
    "for k in range(nsamples):\n",
    "\n",
    "    eig_R[k] = [\n",
    "        np.linalg.matrix_rank(eigeny_A[:, : (l + 1) ** 2]) for l in range(1, lmax + 1)\n",
    "    ]\n",
    "    # print(R[k])\n",
    "\n",
    "eig_R = np.median(eig_R, axis=0)\n",
    "\n",
    "print(f\"The new rank with eigeny is {eig_R}\")\n",
    "\n",
    "eigeny_A_T = m.eigeny.T #m.eigeny.design_matrix()\n",
    "\n",
    "eig_R_T = np.empty((nsamples, lmax))\n",
    "\n",
    "for k in range(nsamples):\n",
    "\n",
    "    eig_R_T[k] = [\n",
    "        np.linalg.matrix_rank(eigeny_A_T[:, : (l + 1) ** 2]) for l in range(1, lmax + 1)\n",
    "    ]\n",
    "    # print(R[k])\n",
    "\n",
    "eig_R_T = np.median(eig_R_T, axis=0)\n",
    "\n",
    "print(f\"The new rank with eigeny.T is {eig_R_T}\")\n",
    "\n",
    "# eigeny_A_T_i = m.eigeny_i.T #m.eigeny.design_matrix()\n",
    "\n",
    "# eig_R_T_i = np.empty((nsamples, lmax))\n",
    "\n",
    "# for k in range(nsamples):\n",
    "\n",
    "#     eig_R_T_i[k] = [\n",
    "#         np.linalg.matrix_rank(eigeny_A_T_i[:, : (l + 1) ** 2]) for l in range(1, lmax + 1)\n",
    "#     ]\n",
    "# # print(R[k])\n",
    "\n",
    "# eig_R_T_i = np.median(eig_R_T_i, axis=0)\n",
    "\n",
    "# print(f\"The new rank with eigeny.T with tsvd is {eig_R_T_i}\")"
   ]
  },
  {
   "cell_type": "code",
   "execution_count": null,
   "metadata": {},
   "outputs": [],
   "source": [
    "plots.lightcurves(fit.t, m.lcs, outdir, \"lcs_light_curves\")"
   ]
  },
  {
   "cell_type": "code",
   "execution_count": null,
   "metadata": {},
   "outputs": [],
   "source": [
    "# plots look like they are doubling up!\n",
    "\n",
    "plots.emaps(star, m.eigeny, outdir, proj='rect')"
   ]
  },
  {
   "cell_type": "code",
   "execution_count": null,
   "metadata": {},
   "outputs": [
    {
     "name": "stdout",
     "output_type": "stream",
     "text": [
      "The 0 index eigen map's flux is [ 2.60439549  2.4656796   2.07352286  1.49574607  0.83226421  0.19780226\n",
      " -0.29794381 -0.56926893 -0.56926893 -0.29794381  0.19780226  0.83226421\n",
      "  1.49574607  2.07352286  2.4656796   2.60439549]\n",
      "The 1 index eigen map's flux is [ 1.          1.6525521   2.19227202  2.52583727  2.59557139  2.38941673\n",
      "  1.94301929  1.33356525  0.66643475  0.05698071 -0.38941673 -0.59557139\n",
      " -0.52583727 -0.19227202  0.3474479   1.        ]\n",
      "The 2 index eigen map's flux is [1.61918332 1.41429219 0.93520708 0.49896808 0.39426755 0.69040834\n",
      " 1.19144026 1.56582484 1.56582484 1.19144026 0.69040834 0.39426755\n",
      " 0.49896808 0.93520708 1.41429219 1.61918332]\n",
      "The 3 index eigen map's flux is [1.         0.53978926 0.38411782 0.6359995  1.12875444 1.53630757\n",
      " 1.58896518 1.25188169 0.74811831 0.41103482 0.46369243 0.87124556\n",
      " 1.3640005  1.61588218 1.46021074 1.        ]\n",
      "The 4 index eigen map's flux is [1.26064866 1.26064866 1.26064866 1.26064866 1.26064866 1.26064866\n",
      " 1.26064866 1.26064866 1.26064866 1.26064866 1.26064866 1.26064866\n",
      " 1.26064866 1.26064866 1.26064866 1.26064866]\n",
      "The 5 index eigen map's flux is [0.82805273 0.82805273 0.82805273 0.82805273 0.82805273 0.82805273\n",
      " 0.82805273 0.82805273 0.82805273 0.82805273 0.82805273 0.82805273\n",
      " 0.82805273 0.82805273 0.82805273 0.82805273]\n",
      "The 6 index eigen map's flux is [0.98743159 0.98743159 0.98743159 0.98743159 0.98743159 0.98743159\n",
      " 0.98743159 0.98743159 0.98743159 0.98743159 0.98743159 0.98743159\n",
      " 0.98743159 0.98743159 0.98743159 0.98743159]\n",
      "The 7 index eigen map's flux is [0.98743159 0.98743159 0.98743159 0.98743159 0.98743159 0.98743159\n",
      " 0.98743159 0.98743159 0.98743159 0.98743159 0.98743159 0.98743159\n",
      " 0.98743159 0.98743159 0.98743159 0.98743159]\n",
      "The 8 index eigen map's flux is [0.96853003 0.96853003 0.96853003 0.96853003 0.96853003 0.96853003\n",
      " 0.96853003 0.96853003 0.96853003 0.96853003 0.96853003 0.96853003\n",
      " 0.96853003 0.96853003 0.96853003 0.96853003]\n",
      "The 9 index eigen map's flux is [0.96442649 0.96442649 0.96442649 0.96442649 0.96442649 0.96442649\n",
      " 0.96442649 0.96442649 0.96442649 0.96442649 0.96442649 0.96442649\n",
      " 0.96442649 0.96442649 0.96442649 0.96442649]\n",
      "The 10 index eigen map's flux is [1. 1. 1. 1. 1. 1. 1. 1. 1. 1. 1. 1. 1. 1. 1. 1.]\n",
      "The 11 index eigen map's flux is [1. 1. 1. 1. 1. 1. 1. 1. 1. 1. 1. 1. 1. 1. 1. 1.]\n",
      "The 12 index eigen map's flux is [0.64317791 0.64317791 0.64317791 0.64317791 0.64317791 0.64317791\n",
      " 0.64317791 0.64317791 0.64317791 0.64317791 0.64317791 0.64317791\n",
      " 0.64317791 0.64317791 0.64317791 0.64317791]\n",
      "The 13 index eigen map's flux is [1. 1. 1. 1. 1. 1. 1. 1. 1. 1. 1. 1. 1. 1. 1. 1.]\n",
      "The 14 index eigen map's flux is [1. 1. 1. 1. 1. 1. 1. 1. 1. 1. 1. 1. 1. 1. 1. 1.]\n"
     ]
    }
   ],
   "source": [
    "eigen_flux = []\n",
    "ncurves, ny = m.eigeny.shape\n",
    "\n",
    "lmax = int(ny**0.5 - 1)\n",
    "thet = np.linspace(0, 360, ny)\n",
    "\n",
    "# ncols = np.int(np.sqrt(ncurves) // 1)\n",
    "# nrows = np.int(ncurves // ncols + (ncurves % ncols != 0))\n",
    "# npane = ncols * nrows\n",
    "\n",
    "for j in range(ncurves):\n",
    "    star.map[1:,:] = 0\n",
    "\n",
    "    # xloc = j %  ncols\n",
    "    # yloc = j // ncols\n",
    "    \n",
    "    yi = 1\n",
    "    for l in range(1, lmax + 1):\n",
    "        for mn in range(-l, l + 1):\n",
    "            star.map[l, mn] = m.eigeny[j, yi]\n",
    "            yi += 1\n",
    "\n",
    "    print(f\"The {j} index eigen map's flux is {star.map.flux(theta=thet).eval()}\")\n",
    "    eigen_flux.append(star.map.flux(theta=thet).eval())"
   ]
  },
  {
   "cell_type": "code",
   "execution_count": null,
   "metadata": {},
   "outputs": [],
   "source": [
    "\n",
    "\n",
    "test = np.random.rand(4,2)\n",
    "\n"
   ]
  },
  {
   "cell_type": "code",
   "execution_count": null,
   "metadata": {},
   "outputs": [
    {
     "data": {
      "text/plain": [
       "array([[0.21816324, 0.19414291],\n",
       "       [0.52985809, 0.46880417],\n",
       "       [0.61073674, 0.03797679],\n",
       "       [0.75341679, 0.17138988]])"
      ]
     },
     "execution_count": 51,
     "metadata": {},
     "output_type": "execute_result"
    }
   ],
   "source": [
    "test"
   ]
  },
  {
   "cell_type": "code",
   "execution_count": null,
   "metadata": {},
   "outputs": [
    {
     "data": {
      "text/plain": [
       "array([[0.21816324, 0.52985809, 0.61073674, 0.75341679],\n",
       "       [0.19414291, 0.46880417, 0.03797679, 0.17138988]])"
      ]
     },
     "execution_count": 52,
     "metadata": {},
     "output_type": "execute_result"
    }
   ],
   "source": [
    "test.T"
   ]
  },
  {
   "cell_type": "code",
   "execution_count": null,
   "metadata": {},
   "outputs": [],
   "source": []
  }
 ],
 "metadata": {
  "kernelspec": {
   "display_name": ".venv",
   "language": "python",
   "name": "python3"
  },
  "language_info": {
   "codemirror_mode": {
    "name": "ipython",
    "version": 3
   },
   "file_extension": ".py",
   "mimetype": "text/x-python",
   "name": "python",
   "nbconvert_exporter": "python",
   "pygments_lexer": "ipython3",
   "version": "3.9.13"
  }
 },
 "nbformat": 4,
 "nbformat_minor": 2
}
