{
 "cells": [
  {
   "cell_type": "code",
   "execution_count": 1,
   "metadata": {},
   "outputs": [],
   "source": [
    "import os\n",
    "import sys\n",
    "import mc3\n",
    "import pickle\n",
    "import starry\n",
    "import shutil\n",
    "import subprocess\n",
    "import progressbar\n",
    "import numpy as np\n",
    "import matplotlib.pyplot as plt\n",
    "import time\n",
    "import pandas as pd"
   ]
  },
  {
   "cell_type": "code",
   "execution_count": 2,
   "metadata": {},
   "outputs": [],
   "source": [
    "# Taurex imports\n",
    "import taurex\n",
    "from taurex import chemistry\n",
    "from taurex import planet\n",
    "from taurex import stellar\n",
    "from taurex import model\n",
    "from taurex import pressure\n",
    "from taurex import temperature\n",
    "from taurex import cache\n",
    "from taurex import contributions\n",
    "from taurex import optimizer\n",
    "# This import is explicit because it's not included in taurex.temperature. Bug?\n",
    "from taurex.data.profiles.temperature.temparray import TemperatureArray\n",
    "\n",
    "# Taurex is a bit...talkative\n",
    "import taurex.log\n",
    "taurex.log.disableLogging()\n",
    "\n"
   ]
  },
  {
   "cell_type": "code",
   "execution_count": 3,
   "metadata": {},
   "outputs": [],
   "source": [
    "# Directory structure\n",
    "__file__ = os.path.abspath('') # __file__ is not defined in jupyter\n",
    "\n",
    "maindir    = os.path.dirname(os.path.realpath(__file__))\n",
    "libdir     = os.path.join(maindir, 'lib2')\n",
    "moddir     = os.path.join(libdir,  'modules')\n",
    "ratedir    = os.path.join(moddir,  'rate')\n",
    "transitdir = os.path.join(moddir, 'transit')"
   ]
  },
  {
   "cell_type": "code",
   "execution_count": 4,
   "metadata": {},
   "outputs": [
    {
     "name": "stdout",
     "output_type": "stream",
     "text": [
      "['/Library/Frameworks/Python.framework/Versions/3.9/lib/python39.zip', '/Library/Frameworks/Python.framework/Versions/3.9/lib/python3.9', '/Library/Frameworks/Python.framework/Versions/3.9/lib/python3.9/lib-dynload', '', '/Users/a.j.devaux/Downloads/Research/stellar_null_space/ryan_theresa/jupyter_theresa/.venv/lib/python3.9/site-packages', '/Users/a.j.devaux/Downloads/Research/stellar_null_space/ryan_theresa/jupyter_theresa/.venv/lib/python3.9/site-packages/mc3/lib/', '/Users/a.j.devaux/Downloads/Research/stellar_null_space/ryan_theresa/jupyter_theresa/.venv/lib/python3.9/site-packages/mc3/lib', '/Users/a.j.devaux/Downloads/Research/stellar_null_space/ryan_theresa/lib2']\n"
     ]
    }
   ],
   "source": [
    "# Lib imports\n",
    "sys.path.append(libdir)\n",
    "print(sys.path)\n",
    "from lib2 import constants\n",
    "from lib2 import cf\n",
    "from lib2 import atm\n",
    "from lib2 import my_pca as pca\n",
    "from lib2 import star_eigen as eigen\n",
    "from lib2 import model\n",
    "from lib2 import star_plots as plots\n",
    "from lib2 import mkcfg\n",
    "from lib2 import star_utils as utils\n",
    "from lib2 import constants   as c\n",
    "from lib2 import star_fitclass    as fc\n",
    "from lib2 import taurexclass as trc\n",
    "\n",
    "starry.config.quiet = True"
   ]
  },
  {
   "cell_type": "code",
   "execution_count": 5,
   "metadata": {},
   "outputs": [
    {
     "name": "stdout",
     "output_type": "stream",
     "text": [
      "['/Users/a.j.devaux/Downloads/Research/stellar_null_space/ryan_theresa/jupyter_theresa/.venv/lib/python3.9/site-packages/ipykernel_launcher.py', '--f=/Users/a.j.devaux/Library/Jupyter/runtime/kernel-v39aaef98a9bde7f05027e8b5b8283054b2762ea66.json']\n"
     ]
    }
   ],
   "source": [
    "print(sys.argv)\n",
    "cfile = \"first_star.cfg\"\n",
    "dimen = \"2D\"\n",
    "\n",
    "# if __name__ == \"__main__\":\n",
    "#     print(sys.argv)\n",
    "#     if len(sys.argv) < 3:\n",
    "#         print(\"ERROR: Call structure is run.py <mode> <configuration file>.\")\n",
    "#         sys.exit()\n",
    "#     else:\n",
    "#         mode  = sys.argv[1]\n",
    "#         cfile = sys.argv[2]\n",
    "\n",
    "#     if mode in ['2d', '2D']:\n",
    "#         finding_A(cfile)\n",
    "#     # elif mode in ['3d', '3D']:\n",
    "#     #     # Read config to find location of output, load output,\n",
    "#     #     # then read config again to get any changes from 2d run.\n",
    "#     #     fit = fc.Fit()\n",
    "#     #     fit.read_config(cfile)\n",
    "#     #     fit = fc.load(outdir=fit.cfg.outdir)\n",
    "#     #     fit.read_config(cfile)\n",
    "#     #     # 3D mapping doesn't care about the degree of harmonics, so\n",
    "#     #     # just use 1\n",
    "#     #     star, planet, system = utils.initsystem(fit, 1)\n",
    "#     #     map3d(fit, system)\n",
    "#     else:\n",
    "#         print(\"ERROR: Unrecognized mode. Options are <2d, 3d>.\")"
   ]
  },
  {
   "cell_type": "code",
   "execution_count": 6,
   "metadata": {},
   "outputs": [
    {
     "name": "stdout",
     "output_type": "stream",
     "text": [
      "Reading the configuration file.\n",
      "Reading the data.\n",
      "First star and planet objects.\n"
     ]
    }
   ],
   "source": [
    "fit = fc.Fit()\n",
    "print(\"Reading the configuration file.\")\n",
    "fit.read_config(cfile)\n",
    "cfg = fit.cfg\n",
    "\n",
    "print(\"Reading the data.\")\n",
    "fit.read_data()\n",
    "\n",
    "lmax = cfg.twod.lmax\n",
    "\n",
    "print(\"First star and planet objects.\")\n",
    "star = utils.initsystem(fit, lmax)"
   ]
  },
  {
   "cell_type": "code",
   "execution_count": 7,
   "metadata": {},
   "outputs": [
    {
     "name": "stdout",
     "output_type": "stream",
     "text": [
      "Finding Inclination of planet\n",
      "72.0\n"
     ]
    }
   ],
   "source": [
    "print(\"Finding Inclination of planet\")\n",
    "print(cfg.star.inc)"
   ]
  },
  {
   "cell_type": "code",
   "execution_count": 8,
   "metadata": {},
   "outputs": [
    {
     "name": "stdout",
     "output_type": "stream",
     "text": [
      "Finding Rank of Design Matrix\n",
      "The design matrix is [3. 5. 5.] for lmax = 3\n"
     ]
    }
   ],
   "source": [
    "print(\"Finding Rank of Design Matrix\")\n",
    "A = star.map.design_matrix(theta=np.linspace(0,360,1000)) # how do I decide the angular phase???\n",
    "# print(A.eval())\n",
    "\n",
    "nsamples = cfg.twod.nsamples\n",
    "\n",
    "# print(nsamples, lmax)\n",
    "\n",
    "R = np.empty((nsamples, lmax))\n",
    "\n",
    "for k in range(nsamples):\n",
    "    \n",
    "    R[k] = [\n",
    "        np.linalg.matrix_rank(A.eval()[:, : (l + 1) ** 2]) for l in range(1, lmax + 1)\n",
    "    ]\n",
    "    # print(R[k])\n",
    "\n",
    "R = np.median(R, axis=0)   \n",
    "\n",
    "print(f\"The design matrix is {R} for lmax = {lmax}\")\n"
   ]
  },
  {
   "cell_type": "code",
   "execution_count": 9,
   "metadata": {},
   "outputs": [
    {
     "name": "stdout",
     "output_type": "stream",
     "text": [
      "Finding Eigencurves\n",
      "The sflux is: [1.]\n",
      "The star map has flux [1. 1. 1. ... 1. 1. 1.]\n",
      "The time shape is (15937,)\n",
      "72.0\n"
     ]
    }
   ],
   "source": [
    "print(\"Finding Eigencurves\")\n",
    "\n",
    "# Uniform star object\n",
    "star = utils.initsystem(fit, 1)\n",
    "\n",
    "fit.sflux = star.map.flux(theta=fit.t.shape).eval()\n",
    "\n",
    "print(f\"The sflux is: {fit.sflux}\")\n",
    "\n",
    "print(f\"The star map has flux {star.map.flux(theta=np.linspace(0,360,len(fit.t))).eval()}\")\n",
    "\n",
    "print(f\"The time shape is {fit.t.shape}\")\n",
    "\n",
    "print(star.map.inc.eval())\n",
    "\n",
    "# star.map.show(theta=np.linspace(0, 360, 50))"
   ]
  },
  {
   "cell_type": "code",
   "execution_count": 10,
   "metadata": {},
   "outputs": [],
   "source": [
    "fit.maps = []\n",
    "\n",
    "fit.maps.append(fc.Map())\n",
    "m = fit.maps[0]\n",
    "m.ncurves = cfg.twod.ncurves\n",
    "m.lmax    = cfg.twod.lmax\n",
    "# m.wlmid = fit.wlmid[i]\n",
    "\n",
    "if not os.path.isdir(cfg.outdir):\n",
    "    os.mkdir(cfg.outdir)\n",
    "\n",
    "m.subdir = 'filt{}'.format(1)\n",
    "outdir = os.path.join(cfg.outdir, m.subdir)\n",
    "\n",
    "if not os.path.isdir(os.path.join(cfg.outdir, m.subdir)):\n",
    "    os.mkdir(os.path.join(cfg.outdir, m.subdir))"
   ]
  },
  {
   "cell_type": "code",
   "execution_count": 11,
   "metadata": {},
   "outputs": [],
   "source": [
    "# New planet object with updated lmax\n",
    "star = utils.initsystem(fit, m.lmax)"
   ]
  },
  {
   "cell_type": "code",
   "execution_count": 12,
   "metadata": {},
   "outputs": [],
   "source": [
    "# print(\"Running PCA to determine eigencurves.\")\n",
    "# m.eigeny_i, m.evalues_i, m.evectors_i, m.ecurves_i, m.lcs_i = \\\n",
    "# eigen.mkcurves(star, fit.t, m.lmax, fit.sflux,\n",
    "#                 ncurves=m.ncurves, method=cfg.twod.pca)"
   ]
  },
  {
   "cell_type": "code",
   "execution_count": 13,
   "metadata": {},
   "outputs": [],
   "source": [
    "# print(\"Running PCA to determine eigencurves.\")\n",
    "# m.eigeny_j, m.evalues_j, m.evectors_j, m.ecurves_j, m.lcs_j = \\\n",
    "# eigen.mkcurves(star, fit.t, m.lmax, fit.sflux,\n",
    "#                 ncurves=m.ncurves, method=cfg.twod.pca)"
   ]
  },
  {
   "cell_type": "code",
   "execution_count": 14,
   "metadata": {},
   "outputs": [],
   "source": [
    "# #The lcs are the same!\n",
    "# print((m.lcs_i == m.lcs_j).all())\n",
    "\n",
    "# #The eigen maps are not!\n",
    "# print((m.eigeny_i == m.eigeny_j).all())\n",
    "\n",
    "# #The eigen maps are not!\n",
    "# print((m.ecurves_i == m.ecurves_j).all())\n",
    "\n",
    "# #The eigen maps are not!\n",
    "# print((m.evectors_i == m.evectors_j).all())\n",
    "\n",
    "# #The eigen maps are not!\n",
    "# print((m.evalues_i == m.evalues_j).all())"
   ]
  },
  {
   "cell_type": "code",
   "execution_count": 15,
   "metadata": {},
   "outputs": [
    {
     "name": "stdout",
     "output_type": "stream",
     "text": [
      "Running PCA to determine eigencurves.\n",
      "(30, 15937)\n",
      "(30, 15937)\n"
     ]
    }
   ],
   "source": [
    "#NEED TO CHANGE TO PCA IN CFG FILE\n",
    "\n",
    "print(\"Running PCA to determine eigencurves.\")\n",
    "m.eigeny, m.evalues, m.evectors, m.ecurves, m.lcs = \\\n",
    "eigen.mkcurves(star, fit.t, m.lmax, fit.sflux,\n",
    "                ncurves=m.ncurves, method=\"pca\")\n",
    "\n",
    "m.eigeny2, m.evalues2, m.evectors2, m.ecurves2, m.lcs2 = \\\n",
    "eigen.mkcurves(star, fit.t, m.lmax, fit.sflux,\n",
    "                ncurves=m.ncurves, method=\"pca\")"
   ]
  },
  {
   "cell_type": "code",
   "execution_count": 16,
   "metadata": {},
   "outputs": [
    {
     "name": "stdout",
     "output_type": "stream",
     "text": [
      "True\n",
      "True\n",
      "True\n",
      "True\n",
      "True\n"
     ]
    }
   ],
   "source": [
    "#The lcs are the same!\n",
    "print((m.lcs == m.lcs2).all())\n",
    "\n",
    "#The eigen maps are not!\n",
    "print((m.eigeny == m.eigeny2).all())\n",
    "\n",
    "#The eigen maps are not!\n",
    "print((m.ecurves == m.ecurves2).all())\n",
    "\n",
    "#The eigen maps are not!\n",
    "print((m.evectors == m.evectors2).all())\n",
    "\n",
    "#The eigen maps are not!\n",
    "print((m.evalues == m.evalues2).all())"
   ]
  },
  {
   "cell_type": "code",
   "execution_count": 17,
   "metadata": {},
   "outputs": [
    {
     "name": "stdout",
     "output_type": "stream",
     "text": [
      "The shape of lcs is (30, 15937)\n",
      "\n",
      "The shape of ecurves (proj) is (30, 15937)\n",
      "\n"
     ]
    }
   ],
   "source": [
    "print(f\"The shape of lcs is {m.lcs.shape}\\n\")\n",
    "\n",
    "print(f\"The shape of ecurves (proj) is {m.ecurves.shape}\\n\")\n",
    "\n",
    "# print(f\"The shape of lcs with tsvd is {m.lcs_i.shape}\\n\")\n",
    "\n",
    "# print(f\"The shape of ecurves (proj) with tsvd is {m.ecurves_i.shape}\\n\")"
   ]
  },
  {
   "cell_type": "code",
   "execution_count": 18,
   "metadata": {},
   "outputs": [
    {
     "name": "stdout",
     "output_type": "stream",
     "text": [
      "(30, 30)\n"
     ]
    }
   ],
   "source": [
    "print(m.evectors.shape)"
   ]
  },
  {
   "cell_type": "code",
   "execution_count": 19,
   "metadata": {},
   "outputs": [
    {
     "name": "stdout",
     "output_type": "stream",
     "text": [
      "Finding design matrix & rank of lcs\n",
      "The new rank with lcs.T is [2. 3. 5. 5. 5. 5.]\n"
     ]
    }
   ],
   "source": [
    "print(\"Finding design matrix & rank of lcs\")\n",
    "lcs_A_T = m.lcs.T\n",
    "\n",
    "lcs_R_T = np.empty((nsamples, lmax*2))\n",
    "\n",
    "for k in range(nsamples):\n",
    "    \n",
    "    lcs_R_T[k] = [\n",
    "        np.linalg.matrix_rank(lcs_A_T[:, : (l + 1) ** 2]) for l in range(1, lmax*2 + 1)\n",
    "    ]\n",
    "    # print(R[k])\n",
    "\n",
    "lcs_R_T = np.median(lcs_R_T, axis=0)   \n",
    "\n",
    "print(f\"The new rank with lcs.T is {lcs_R_T}\")\n",
    "\n",
    "# lcs_A_T_i = m.lcs_i.T\n",
    "\n",
    "# lcs_R_T_i = np.empty((nsamples, lmax*2))\n",
    "\n",
    "# for k in range(nsamples):\n",
    "    \n",
    "#     lcs_R_T_i[k] = [\n",
    "#         np.linalg.matrix_rank(lcs_A_T_i[:, : (l + 1) ** 2]) for l in range(1, lmax*2 + 1)\n",
    "#     ]\n",
    "#     # print(R[k])\n",
    "\n",
    "# lcs_R_T_i = np.median(lcs_R_T_i, axis=0)   \n",
    "\n",
    "# print(f\"The new rank with lcs.T with tsvd is {lcs_R_T_i}\")"
   ]
  },
  {
   "cell_type": "code",
   "execution_count": 38,
   "metadata": {},
   "outputs": [
    {
     "name": "stdout",
     "output_type": "stream",
     "text": [
      "Finding design matrix & rank of ecurves\n",
      "(100, 3)\n",
      "The new rank with ecurves.T is [4. 4. 4.]\n"
     ]
    }
   ],
   "source": [
    "print(\"Finding design matrix & rank of ecurves\")\n",
    "\n",
    "evect_A_T = m.ecurves.T\n",
    "\n",
    "evect_R_T = np.empty((nsamples, lmax))\n",
    "\n",
    "for k in range(nsamples):\n",
    "    \n",
    "    evect_R_T[k] = [\n",
    "        np.linalg.matrix_rank(evect_A_T[:, : (l + 1) ** 2]) for l in range(1, lmax + 1)\n",
    "    ]\n",
    "    # print(R[k])\n",
    "\n",
    "print(evect_R_T.shape)\n",
    "\n",
    "evect_R_T = np.median(evect_R_T, axis=0)   \n",
    "\n",
    "print(f\"The new rank with ecurves.T is {evect_R_T}\")\n",
    "\n",
    "# evect_A_T_i = m.ecurves_i.T\n",
    "\n",
    "# evect_R_T_i = np.empty((nsamples, lmax))\n",
    "\n",
    "# for k in range(nsamples):\n",
    "    \n",
    "#     evect_R_T_i[k] = [\n",
    "#         np.linalg.matrix_rank(evect_A_T_i[:, : (l + 1) ** 2]) for l in range(1, lmax + 1)\n",
    "#     ]\n",
    "#     # print(R[k])\n",
    "\n",
    "# evect_R_T_i = np.median(evect_R_T_i, axis=0)   \n",
    "\n",
    "# print(f\"The new rank with ecurves.T with tsvd is {evect_R_T_i}\")"
   ]
  },
  {
   "cell_type": "code",
   "execution_count": 21,
   "metadata": {},
   "outputs": [
    {
     "name": "stdout",
     "output_type": "stream",
     "text": [
      "Finding design matrix & rank of eigeny\n",
      "It has shape (15, 16)\n",
      "The new rank with eigeny is [ 4.  9. 11.]\n",
      "The new rank with eigeny.T is [ 4.  8. 11.]\n"
     ]
    }
   ],
   "source": [
    "print(\"Finding design matrix & rank of eigeny\")\n",
    "print(f\"It has shape {m.eigeny.shape}\")\n",
    "\n",
    "eigeny_A = m.eigeny #m.eigeny.design_matrix()\n",
    "\n",
    "eig_R = np.empty((nsamples, lmax))\n",
    "\n",
    "for k in range(nsamples):\n",
    "\n",
    "    eig_R[k] = [\n",
    "        np.linalg.matrix_rank(eigeny_A[:, : (l + 1) ** 2]) for l in range(1, lmax + 1)\n",
    "    ]\n",
    "    # print(R[k])\n",
    "\n",
    "eig_R = np.median(eig_R, axis=0)\n",
    "\n",
    "print(f\"The new rank with eigeny is {eig_R}\")\n",
    "\n",
    "eigeny_A_T = m.eigeny.T #m.eigeny.design_matrix()\n",
    "\n",
    "eig_R_T = np.empty((nsamples, lmax))\n",
    "\n",
    "for k in range(nsamples):\n",
    "\n",
    "    eig_R_T[k] = [\n",
    "        np.linalg.matrix_rank(eigeny_A_T[:, : (l + 1) ** 2]) for l in range(1, lmax + 1)\n",
    "    ]\n",
    "    # print(R[k])\n",
    "\n",
    "eig_R_T = np.median(eig_R_T, axis=0)\n",
    "\n",
    "print(f\"The new rank with eigeny.T is {eig_R_T}\")\n",
    "\n",
    "# eigeny_A_T_i = m.eigeny_i.T #m.eigeny.design_matrix()\n",
    "\n",
    "# eig_R_T_i = np.empty((nsamples, lmax))\n",
    "\n",
    "# for k in range(nsamples):\n",
    "\n",
    "#     eig_R_T_i[k] = [\n",
    "#         np.linalg.matrix_rank(eigeny_A_T_i[:, : (l + 1) ** 2]) for l in range(1, lmax + 1)\n",
    "#     ]\n",
    "# # print(R[k])\n",
    "\n",
    "# eig_R_T_i = np.median(eig_R_T_i, axis=0)\n",
    "\n",
    "# print(f\"The new rank with eigeny.T with tsvd is {eig_R_T_i}\")"
   ]
  },
  {
   "cell_type": "code",
   "execution_count": 22,
   "metadata": {},
   "outputs": [],
   "source": [
    "plots.lightcurves(fit.t, m.lcs, outdir, \"lcs_light_curves\")"
   ]
  },
  {
   "cell_type": "code",
   "execution_count": 23,
   "metadata": {},
   "outputs": [],
   "source": [
    "# plots look like they are doubling up!\n",
    "\n",
    "plots.emaps(star, m.eigeny, outdir, proj='rect')"
   ]
  },
  {
   "cell_type": "code",
   "execution_count": 27,
   "metadata": {},
   "outputs": [
    {
     "name": "stdout",
     "output_type": "stream",
     "text": [
      "The 0 index eigen map's flux is [ 2.60439549  2.4656796   2.07352286  1.49574607  0.83226421  0.19780226\n",
      " -0.29794381 -0.56926893 -0.56926893 -0.29794381  0.19780226  0.83226421\n",
      "  1.49574607  2.07352286  2.4656796   2.60439549]\n",
      "The 1 index eigen map's flux is [ 1.          1.6525521   2.19227202  2.52583727  2.59557139  2.38941673\n",
      "  1.94301929  1.33356525  0.66643475  0.05698071 -0.38941673 -0.59557139\n",
      " -0.52583727 -0.19227202  0.3474479   1.        ]\n",
      "The 2 index eigen map's flux is [1.61918332 1.41429219 0.93520708 0.49896808 0.39426755 0.69040834\n",
      " 1.19144026 1.56582484 1.56582484 1.19144026 0.69040834 0.39426755\n",
      " 0.49896808 0.93520708 1.41429219 1.61918332]\n",
      "The 3 index eigen map's flux is [1.         0.53978926 0.38411782 0.6359995  1.12875444 1.53630757\n",
      " 1.58896518 1.25188169 0.74811831 0.41103482 0.46369243 0.87124556\n",
      " 1.3640005  1.61588218 1.46021074 1.        ]\n",
      "The 4 index eigen map's flux is [1.26064866 1.26064866 1.26064866 1.26064866 1.26064866 1.26064866\n",
      " 1.26064866 1.26064866 1.26064866 1.26064866 1.26064866 1.26064866\n",
      " 1.26064866 1.26064866 1.26064866 1.26064866]\n",
      "The 5 index eigen map's flux is [0.82805273 0.82805273 0.82805273 0.82805273 0.82805273 0.82805273\n",
      " 0.82805273 0.82805273 0.82805273 0.82805273 0.82805273 0.82805273\n",
      " 0.82805273 0.82805273 0.82805273 0.82805273]\n",
      "The 6 index eigen map's flux is [0.98743159 0.98743159 0.98743159 0.98743159 0.98743159 0.98743159\n",
      " 0.98743159 0.98743159 0.98743159 0.98743159 0.98743159 0.98743159\n",
      " 0.98743159 0.98743159 0.98743159 0.98743159]\n",
      "The 7 index eigen map's flux is [0.98743159 0.98743159 0.98743159 0.98743159 0.98743159 0.98743159\n",
      " 0.98743159 0.98743159 0.98743159 0.98743159 0.98743159 0.98743159\n",
      " 0.98743159 0.98743159 0.98743159 0.98743159]\n",
      "The 8 index eigen map's flux is [0.96853003 0.96853003 0.96853003 0.96853003 0.96853003 0.96853003\n",
      " 0.96853003 0.96853003 0.96853003 0.96853003 0.96853003 0.96853003\n",
      " 0.96853003 0.96853003 0.96853003 0.96853003]\n",
      "The 9 index eigen map's flux is [0.96442649 0.96442649 0.96442649 0.96442649 0.96442649 0.96442649\n",
      " 0.96442649 0.96442649 0.96442649 0.96442649 0.96442649 0.96442649\n",
      " 0.96442649 0.96442649 0.96442649 0.96442649]\n",
      "The 10 index eigen map's flux is [1. 1. 1. 1. 1. 1. 1. 1. 1. 1. 1. 1. 1. 1. 1. 1.]\n",
      "The 11 index eigen map's flux is [1. 1. 1. 1. 1. 1. 1. 1. 1. 1. 1. 1. 1. 1. 1. 1.]\n",
      "The 12 index eigen map's flux is [0.64317791 0.64317791 0.64317791 0.64317791 0.64317791 0.64317791\n",
      " 0.64317791 0.64317791 0.64317791 0.64317791 0.64317791 0.64317791\n",
      " 0.64317791 0.64317791 0.64317791 0.64317791]\n",
      "The 13 index eigen map's flux is [1. 1. 1. 1. 1. 1. 1. 1. 1. 1. 1. 1. 1. 1. 1. 1.]\n",
      "The 14 index eigen map's flux is [1. 1. 1. 1. 1. 1. 1. 1. 1. 1. 1. 1. 1. 1. 1. 1.]\n"
     ]
    }
   ],
   "source": [
    "eigen_flux = []\n",
    "ncurves, ny = m.eigeny.shape\n",
    "\n",
    "lmax = int(ny**0.5 - 1)\n",
    "thet = np.linspace(0, 360, ny)\n",
    "\n",
    "# ncols = np.int(np.sqrt(ncurves) // 1)\n",
    "# nrows = np.int(ncurves // ncols + (ncurves % ncols != 0))\n",
    "# npane = ncols * nrows\n",
    "\n",
    "for j in range(ncurves):\n",
    "    star.map[1:,:] = 0\n",
    "\n",
    "    # xloc = j %  ncols\n",
    "    # yloc = j // ncols\n",
    "    \n",
    "    yi = 1\n",
    "    for l in range(1, lmax + 1):\n",
    "        for mn in range(-l, l + 1):\n",
    "            star.map[l, mn] = m.eigeny[j, yi]\n",
    "            yi += 1\n",
    "\n",
    "    print(f\"The {j} index eigen map's flux is {star.map.flux(theta=thet).eval()}\")\n",
    "    eigen_flux.append(star.map.flux(theta=thet).eval())"
   ]
  },
  {
   "cell_type": "code",
   "execution_count": 30,
   "metadata": {},
   "outputs": [
    {
     "name": "stdout",
     "output_type": "stream",
     "text": [
      "True\n"
     ]
    }
   ],
   "source": [
    "print((eigen_flux[6] == eigen_flux[7]).all())"
   ]
  },
  {
   "cell_type": "code",
   "execution_count": null,
   "metadata": {},
   "outputs": [],
   "source": []
  }
 ],
 "metadata": {
  "kernelspec": {
   "display_name": ".venv",
   "language": "python",
   "name": "python3"
  },
  "language_info": {
   "codemirror_mode": {
    "name": "ipython",
    "version": 3
   },
   "file_extension": ".py",
   "mimetype": "text/x-python",
   "name": "python",
   "nbconvert_exporter": "python",
   "pygments_lexer": "ipython3",
   "version": "3.9.13"
  }
 },
 "nbformat": 4,
 "nbformat_minor": 2
}
