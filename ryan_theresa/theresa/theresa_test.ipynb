{
 "cells": [
  {
   "cell_type": "code",
   "execution_count": 1,
   "metadata": {},
   "outputs": [],
   "source": [
    "import os\n",
    "import sys\n",
    "import mc3\n",
    "import pickle\n",
    "import starry\n",
    "import shutil\n",
    "import subprocess\n",
    "import progressbar\n",
    "import numpy as np\n",
    "import matplotlib.pyplot as plt\n",
    "import time\n",
    "import pandas as pd"
   ]
  },
  {
   "cell_type": "code",
   "execution_count": 2,
   "metadata": {},
   "outputs": [],
   "source": [
    "# Taurex imports\n",
    "import taurex\n",
    "from taurex import chemistry\n",
    "from taurex import planet\n",
    "from taurex import stellar\n",
    "from taurex import model\n",
    "from taurex import pressure\n",
    "from taurex import temperature\n",
    "from taurex import cache\n",
    "from taurex import contributions\n",
    "from taurex import optimizer\n",
    "# This import is explicit because it's not included in taurex.temperature. Bug?\n",
    "from taurex.data.profiles.temperature.temparray import TemperatureArray\n",
    "\n",
    "# Taurex is a bit...talkative\n",
    "import taurex.log\n",
    "taurex.log.disableLogging()\n",
    "\n"
   ]
  },
  {
   "cell_type": "code",
   "execution_count": 3,
   "metadata": {},
   "outputs": [],
   "source": [
    "# Directory structure\n",
    "__file__ = os.path.abspath('') # __file__ is not defined in jupyter\n",
    "\n",
    "maindir    = os.path.dirname(os.path.realpath(__file__))\n",
    "libdir     = os.path.join(maindir, 'lib')\n",
    "moddir     = os.path.join(libdir,  'modules')\n",
    "ratedir    = os.path.join(moddir,  'rate')\n",
    "transitdir = os.path.join(moddir, 'transit')"
   ]
  },
  {
   "cell_type": "code",
   "execution_count": 13,
   "metadata": {},
   "outputs": [
    {
     "name": "stdout",
     "output_type": "stream",
     "text": [
      "['/Library/Frameworks/Python.framework/Versions/3.9/lib/python39.zip', '/Library/Frameworks/Python.framework/Versions/3.9/lib/python3.9', '/Library/Frameworks/Python.framework/Versions/3.9/lib/python3.9/lib-dynload', '', '/Users/a.j.devaux/Downloads/Research/.venv/lib/python3.9/site-packages', '/Users/a.j.devaux/Downloads/Research/.venv/lib/python3.9/site-packages/mc3/lib/', '/Users/a.j.devaux/Downloads/Research/.venv/lib/python3.9/site-packages/mc3/lib', '/Users/a.j.devaux/Downloads/Research/stellar_null_space/ryan_theresa/lib', '/Users/a.j.devaux/Downloads/Research/stellar_null_space/ryan_theresa/lib', '/Users/a.j.devaux/Downloads/Research/stellar_null_space/ryan_theresa/lib', '/Users/a.j.devaux/Downloads/Research/stellar_null_space/ryan_theresa/lib', '/Users/a.j.devaux/Downloads/Research/stellar_null_space/ryan_theresa/lib', '/Users/a.j.devaux/Downloads/Research/stellar_null_space/ryan_theresa/lib', '/Users/a.j.devaux/Downloads/Research/stellar_null_space/ryan_theresa/lib', '/Users/a.j.devaux/Downloads/Research/stellar_null_space/ryan_theresa/lib', '/Users/a.j.devaux/Downloads/Research/stellar_null_space/ryan_theresa/lib']\n"
     ]
    },
    {
     "ename": "ModuleNotFoundError",
     "evalue": "No module named 'constants'",
     "output_type": "error",
     "traceback": [
      "\u001b[0;31m---------------------------------------------------------------------------\u001b[0m",
      "\u001b[0;31mModuleNotFoundError\u001b[0m                       Traceback (most recent call last)",
      "Cell \u001b[0;32mIn[13], line 7\u001b[0m\n\u001b[1;32m      5\u001b[0m \u001b[38;5;28;01mimport\u001b[39;00m \u001b[38;5;21;01mlib\u001b[39;00m\u001b[38;5;21;01m.\u001b[39;00m\u001b[38;5;21;01mconstants\u001b[39;00m\n\u001b[1;32m      6\u001b[0m \u001b[38;5;66;03m# import lib.utils\u001b[39;00m\n\u001b[0;32m----> 7\u001b[0m \u001b[38;5;28;01mimport\u001b[39;00m \u001b[38;5;21;01mlib\u001b[39;00m\u001b[38;5;21;01m.\u001b[39;00m\u001b[38;5;21;01mcf\u001b[39;00m\n\u001b[1;32m      8\u001b[0m \u001b[38;5;66;03m# from lib import atm\u001b[39;00m\n\u001b[1;32m      9\u001b[0m \u001b[38;5;66;03m# from lib import my_pca as pca\u001b[39;00m\n\u001b[1;32m     10\u001b[0m \u001b[38;5;66;03m# from lib import star_eigen as eigen\u001b[39;00m\n\u001b[0;32m   (...)\u001b[0m\n\u001b[1;32m     16\u001b[0m \u001b[38;5;66;03m# from lib import star_fitclass    as fc\u001b[39;00m\n\u001b[1;32m     17\u001b[0m \u001b[38;5;66;03m# from lib import taurexclass as trc\u001b[39;00m\n\u001b[1;32m     19\u001b[0m starry\u001b[38;5;241m.\u001b[39mconfig\u001b[38;5;241m.\u001b[39mquiet \u001b[38;5;241m=\u001b[39m \u001b[38;5;28;01mTrue\u001b[39;00m\n",
      "File \u001b[0;32m~/Downloads/Research/stellar_null_space/ryan_theresa/theresa/lib/cf.py:2\u001b[0m\n\u001b[1;32m      1\u001b[0m \u001b[38;5;28;01mimport\u001b[39;00m \u001b[38;5;21;01mnumpy\u001b[39;00m \u001b[38;5;28;01mas\u001b[39;00m \u001b[38;5;21;01mnp\u001b[39;00m\n\u001b[0;32m----> 2\u001b[0m \u001b[38;5;28;01mfrom\u001b[39;00m \u001b[38;5;21;01mlib\u001b[39;00m \u001b[38;5;28;01mimport\u001b[39;00m utils\n\u001b[1;32m      3\u001b[0m \u001b[38;5;28;01mimport\u001b[39;00m \u001b[38;5;21;01mscipy\u001b[39;00m\u001b[38;5;21;01m.\u001b[39;00m\u001b[38;5;21;01minterpolate\u001b[39;00m \u001b[38;5;28;01mas\u001b[39;00m \u001b[38;5;21;01msci\u001b[39;00m\n\u001b[1;32m      4\u001b[0m \u001b[38;5;28;01mimport\u001b[39;00m \u001b[38;5;21;01mtime\u001b[39;00m\n",
      "File \u001b[0;32m~/Downloads/Research/stellar_null_space/ryan_theresa/theresa/lib/utils.py:5\u001b[0m\n\u001b[1;32m      3\u001b[0m \u001b[38;5;28;01mimport\u001b[39;00m \u001b[38;5;21;01mtheano\u001b[39;00m\n\u001b[1;32m      4\u001b[0m \u001b[38;5;28;01mimport\u001b[39;00m \u001b[38;5;21;01mtime\u001b[39;00m\n\u001b[0;32m----> 5\u001b[0m \u001b[38;5;28;01mimport\u001b[39;00m \u001b[38;5;21;01mconstants\u001b[39;00m \u001b[38;5;28;01mas\u001b[39;00m \u001b[38;5;21;01mc\u001b[39;00m\n\u001b[1;32m      6\u001b[0m \u001b[38;5;28;01mimport\u001b[39;00m \u001b[38;5;21;01mscipy\u001b[39;00m\u001b[38;5;21;01m.\u001b[39;00m\u001b[38;5;21;01mconstants\u001b[39;00m \u001b[38;5;28;01mas\u001b[39;00m \u001b[38;5;21;01msc\u001b[39;00m\n\u001b[1;32m      7\u001b[0m \u001b[38;5;28;01mimport\u001b[39;00m \u001b[38;5;21;01mscipy\u001b[39;00m\u001b[38;5;21;01m.\u001b[39;00m\u001b[38;5;21;01minterpolate\u001b[39;00m \u001b[38;5;28;01mas\u001b[39;00m \u001b[38;5;21;01mspi\u001b[39;00m\n",
      "\u001b[0;31mModuleNotFoundError\u001b[0m: No module named 'constants'"
     ]
    }
   ],
   "source": [
    "# Lib imports\n",
    "sys.path.append(libdir)\n",
    "print(sys.path)\n",
    "import lib\n",
    "import lib.constants\n",
    "# import lib.utils\n",
    "import lib.cf\n",
    "# from lib import atm\n",
    "# from lib import my_pca as pca\n",
    "# from lib import star_eigen as eigen\n",
    "# from lib import model\n",
    "# from lib import star_plots as plots\n",
    "# from lib import mkcfg\n",
    "# from lib import star_utils as utils\n",
    "# from lib import constants   as c\n",
    "# from lib import star_fitclass    as fc\n",
    "# from lib import taurexclass as trc\n",
    "\n",
    "starry.config.quiet = True"
   ]
  },
  {
   "cell_type": "code",
   "execution_count": null,
   "metadata": {},
   "outputs": [],
   "source": []
  }
 ],
 "metadata": {
  "kernelspec": {
   "display_name": ".venv",
   "language": "python",
   "name": "python3"
  },
  "language_info": {
   "codemirror_mode": {
    "name": "ipython",
    "version": 3
   },
   "file_extension": ".py",
   "mimetype": "text/x-python",
   "name": "python",
   "nbconvert_exporter": "python",
   "pygments_lexer": "ipython3",
   "version": "3.9.13"
  }
 },
 "nbformat": 4,
 "nbformat_minor": 2
}
